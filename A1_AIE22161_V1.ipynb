{
  "cells": [
    {
      "cell_type": "code",
      "execution_count": 1,
      "metadata": {
        "colab": {
          "base_uri": "https://localhost:8080/"
        },
        "id": "fHDtNTyFvIDn",
        "outputId": "987b83db-7c0d-4db9-cd9a-378450183cd5"
      },
      "outputs": [
        {
          "output_type": "stream",
          "name": "stdout",
          "text": [
            "4\n",
            "[(7, 3), (4, 6), (3, 7), (6, 4)]\n"
          ]
        }
      ],
      "source": [
        "c=0\n",
        "a=[2,7,4,1,3,6]\n",
        "b=[]\n",
        "for i in range(len(a)):\n",
        "     for j in range(1,len(a)):\n",
        "       if(a[i]+a[j]==10):\n",
        "         c = c + 1\n",
        "         b.append((a[i],a[j]))\n",
        "       else:\n",
        "           c=c\n",
        "\n",
        "print(c)\n",
        "print(b)\n",
        ""
      ]
    },
    {
      "cell_type": "code",
      "execution_count": 2,
      "metadata": {
        "colab": {
          "base_uri": "https://localhost:8080/"
        },
        "id": "bvrTGhTNvIDr",
        "outputId": "e9c84f9b-7525-40c7-bae2-2a872dde2063"
      },
      "outputs": [
        {
          "output_type": "stream",
          "name": "stdout",
          "text": [
            "Enter numbers in list seperated by spaces12 2 3\n",
            "Range: 3 to 12\n"
          ]
        }
      ],
      "source": [
        "string = input(\"Enter numbers in list seperated by spaces\").split()\n",
        "for x in string:\n",
        "    x = int(x)\n",
        "minimum = min(string)\n",
        "maximum = max(string)\n",
        "\n",
        "print(f\"Range: {maximum} to {minimum}\")"
      ]
    },
    {
      "cell_type": "code",
      "execution_count": 6,
      "metadata": {
        "colab": {
          "base_uri": "https://localhost:8080/"
        },
        "id": "ptF8WXPNvIDs",
        "outputId": "578abd39-a2d1-4e92-b954-608ca105f92c"
      },
      "outputs": [
        {
          "output_type": "stream",
          "name": "stdout",
          "text": [
            "Enter numbers in first row of the matrix:1 2 3\n",
            "Enter numbers in next row of the matrix12 3 4\n",
            "Enter numbers in next row of the matrix1 3 4\n",
            "Enter a number m3\n",
            "[[255, 176, 244], [656, 431, 592], [348, 244, 339]]\n",
            "3\n"
          ]
        }
      ],
      "source": [
        "def matrixmult(matrix,matrix1):\n",
        "    if len(matrix)!= len(matrix1):\n",
        "        raise ValueError(\"Number of rows in the first matrix must equal the number of rows in the second matrix.\")\n",
        "\n",
        "    result = []\n",
        "    for i in range(len(matrix)):\n",
        "        row = []\n",
        "        for j in range(len(matrix1[0])):\n",
        "            sum = 0\n",
        "            for k in range(len(matrix1)):\n",
        "                sum += int(matrix[i][k]) * int(matrix1[k][j])\n",
        "            row.append(sum)\n",
        "        result.append(row)\n",
        "    return result\n",
        "def powermatrix(matrix,m):\n",
        "    if m == 1:\n",
        "        return matrix\n",
        "    return matrixmult(matrix, powermatrix(matrix,m-1))\n",
        "\n",
        "\n",
        "matrix =[]\n",
        "string= input(\"Enter numbers in first row of the matrix:\").split()\n",
        "matrix.append(string)\n",
        "no_rows = len(string)\n",
        "for _ in range(no_rows-1):\n",
        "    string = input(\"Enter numbers in next row of the matrix\").split()\n",
        "    matrix.append(string)\n",
        "for x in matrix:\n",
        "    for y in x:\n",
        "        y = int(y)\n",
        "m = int(input(\"Enter a number m\"))\n",
        "#converting m as interger\n",
        "result =  powermatrix(matrix,m)\n",
        "print(result)\n",
        "print(len(matrix))\n"
      ]
    },
    {
      "cell_type": "code",
      "execution_count": 5,
      "metadata": {
        "colab": {
          "base_uri": "https://localhost:8080/"
        },
        "id": "l0Me85I2vIDs",
        "outputId": "1f8b5be7-ff8b-4d85-dbb6-d49a6c02ee23"
      },
      "outputs": [
        {
          "output_type": "stream",
          "name": "stdout",
          "text": [
            "enter the string:karthik\n",
            "karthik\n",
            " maximally occuring character:k and the count is 2:\n"
          ]
        }
      ],
      "source": [
        "x=input(\"enter the string:\")\n",
        "print(x)\n",
        "\n",
        "count={}\n",
        "\n",
        "for i in x:\n",
        "    if i in count:\n",
        "        count[i]=count[i]+1\n",
        "    else:\n",
        "        count[i] = 1\n",
        "result= max(count,key = count.get)\n",
        "count = count[result]\n",
        "\n",
        "print(f\" maximally occuring character:{result} and the count is {count}:\")"
      ]
    }
  ],
  "metadata": {
    "kernelspec": {
      "display_name": "Python 3",
      "language": "python",
      "name": "python3"
    },
    "language_info": {
      "codemirror_mode": {
        "name": "ipython",
        "version": 3
      },
      "file_extension": ".py",
      "mimetype": "text/x-python",
      "name": "python",
      "nbconvert_exporter": "python",
      "pygments_lexer": "ipython3",
      "version": "3.12.0"
    },
    "colab": {
      "provenance": []
    }
  },
  "nbformat": 4,
  "nbformat_minor": 0
}
